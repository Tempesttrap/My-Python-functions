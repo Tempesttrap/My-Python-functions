{
 "cells": [
  {
   "cell_type": "code",
   "execution_count": 2,
   "id": "c8164208-d2af-42cd-85d0-f4b4351e3cae",
   "metadata": {},
   "outputs": [],
   "source": [
    "from numpy import random"
   ]
  },
  {
   "cell_type": "code",
   "execution_count": null,
   "id": "c58bb0c4-b1a1-4d6d-ba18-c6d0262e4838",
   "metadata": {
    "scrolled": true
   },
   "outputs": [],
   "source": [
    "def k_to_f_converter(temps):\n",
    "    \"\"\"\n",
    "    Converts Kelvin temperatures to Fahrenheit.\n",
    "\n",
    "    Parameters\n",
    "    ----------\n",
    "    temps: list or array\n",
    "        A list of temperatures in Kelvin.\n",
    "\n",
    "    Returns\n",
    "    -------\n",
    "    A string \n",
    "        Temperatures converted to Fahrenheit, to 2 decimal places.\n",
    "    \n",
    "    \"\"\"\n",
    "    f_temps=[] #new list\n",
    "    \n",
    "    for i in temps:\n",
    "        f_temps.append((i-273.15)*(9/5)+32) #adding converted k to f values to new list\n",
    "    \n",
    "    f_rounded_temps=[round(k,1) for k in f_temps]#new list of rounded f values\n",
    "   \n",
    "    k_str=\", \".join(f\"{k} K\" for k in temps)\n",
    "    f_str=\", \".join(f\"{f}°F\" for f in f_rounded_temps)\n",
    "    \n",
    "    print(f\"The temperatures in kelvin were: {k_str}\" + f\"\\nThe temperatures in fahrenheit are: {f_str}\") \n",
    "\n",
    "def main():\n",
    "        k_to_f_converter(temps)\n",
    "    \n",
    "if __name__==\"__main__\":\n",
    "        main()"
   ]
  }
 ],
 "metadata": {
  "kernelspec": {
   "display_name": "Python 3 (ipykernel)",
   "language": "python",
   "name": "python3"
  },
  "language_info": {
   "codemirror_mode": {
    "name": "ipython",
    "version": 3
   },
   "file_extension": ".py",
   "mimetype": "text/x-python",
   "name": "python",
   "nbconvert_exporter": "python",
   "pygments_lexer": "ipython3",
   "version": "3.11.2"
  }
 },
 "nbformat": 4,
 "nbformat_minor": 5
}
