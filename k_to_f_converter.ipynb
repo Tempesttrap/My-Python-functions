{
 "cells": [
  {
   "cell_type": "code",
   "execution_count": 2,
   "id": "c8164208-d2af-42cd-85d0-f4b4351e3cae",
   "metadata": {},
   "outputs": [],
   "source": [
    "from numpy import random"
   ]
  },
  {
   "cell_type": "code",
   "execution_count": null,
   "id": "c58bb0c4-b1a1-4d6d-ba18-c6d0262e4838",
   "metadata": {
    "scrolled": true
   },
   "outputs": [],
   "source": [
    "def k_to_f_converter(temps):\n",
    "    \"\"\"\n",
    "    Converts Kelvin temperatures to Fahrenheit.\n",
    "\n",
    "    Parameters\n",
    "    ----------\n",
    "    temps: list or array\n",
    "        A list of temperatures in Kelvin.\n",
    "\n",
    "    Returns\n",
    "    -------\n",
    "    A string \n",
    "        Temperatures converted to Fahrenheit, to 2 decimal places.\n",
    "    \n",
    "    \"\"\"\n",
    "    f_temps=[] #new list\n",
    "    \n",
    "    for i in temps:\n",
    "        f_temps.append((i-273.15)*(9/5)+32) #adding converted k to f values to new list\n",
    "    \n",
    "    f_rounded_temps=[round(k,1) for k in f_temps]#new list of rounded f values\n",
    "   \n",
    "    k_str=\", \".join(f\"{k} K\" for k in temps)\n",
    "    f_str=\", \".join(f\"{f}°F\" for f in f_rounded_temps)\n",
    "    \n",
    "    print(f\"The temperatures in kelvin were: {k_str}\" + f\"\\nThe temperatures in fahrenheit are: {f_str}\") \n",
    "\n",
    "def main():\n",
    "        k_to_f_converter(temps)\n",
    "    \n",
    "if __name__==\"__main__\":\n",
    "        main()"
   ]
  },
  {
   "cell_type": "code",
   "execution_count": 12,
   "id": "95299029-c5b0-4129-81d8-1f41a93cee42",
   "metadata": {},
   "outputs": [
    {
     "ename": "TypeError",
     "evalue": "can't multiply sequence by non-int of type 'float'",
     "output_type": "error",
     "traceback": [
      "\u001b[31m---------------------------------------------------------------------------\u001b[39m",
      "\u001b[31mTypeError\u001b[39m                                 Traceback (most recent call last)",
      "\u001b[36mCell\u001b[39m\u001b[36m \u001b[39m\u001b[32mIn[12]\u001b[39m\u001b[32m, line 20\u001b[39m\n\u001b[32m     17\u001b[39m     \u001b[38;5;28mprint\u001b[39m(inch,\u001b[33m\"\u001b[39m\u001b[33minches is\u001b[39m\u001b[33m\"\u001b[39m,\u001b[38;5;28mround\u001b[39m(inch*\u001b[32m25.4\u001b[39m,\u001b[32m2\u001b[39m),\u001b[33m\"\u001b[39m\u001b[33mmm\u001b[39m\u001b[33m\"\u001b[39m) \u001b[38;5;66;03m#rounded to 2 decimals\u001b[39;00m\n\u001b[32m     19\u001b[39m inch=[\u001b[32m3\u001b[39m,\u001b[32m2\u001b[39m,\u001b[32m10\u001b[39m]\n\u001b[32m---> \u001b[39m\u001b[32m20\u001b[39m \u001b[43minch_to_mm_converter\u001b[49m\u001b[43m(\u001b[49m\u001b[43minch\u001b[49m\u001b[43m)\u001b[49m \u001b[38;5;66;03m#checks out!\u001b[39;00m\n",
      "\u001b[36mCell\u001b[39m\u001b[36m \u001b[39m\u001b[32mIn[12]\u001b[39m\u001b[32m, line 17\u001b[39m, in \u001b[36minch_to_mm_converter\u001b[39m\u001b[34m(inch)\u001b[39m\n\u001b[32m      1\u001b[39m \u001b[38;5;28;01mdef\u001b[39;00m\u001b[38;5;250m \u001b[39m\u001b[34minch_to_mm_converter\u001b[39m(inch):\n\u001b[32m      2\u001b[39m \u001b[38;5;250m    \u001b[39m\u001b[33;03m\"\"\"\u001b[39;00m\n\u001b[32m      3\u001b[39m \u001b[33;03m    Converts inches to millimeters \u001b[39;00m\n\u001b[32m      4\u001b[39m \n\u001b[32m   (...)\u001b[39m\u001b[32m     14\u001b[39m \n\u001b[32m     15\u001b[39m \u001b[33;03m    \"\"\"\u001b[39;00m\n\u001b[32m---> \u001b[39m\u001b[32m17\u001b[39m     \u001b[38;5;28mprint\u001b[39m(inch,\u001b[33m\"\u001b[39m\u001b[33minches is\u001b[39m\u001b[33m\"\u001b[39m,\u001b[38;5;28mround\u001b[39m(\u001b[43minch\u001b[49m\u001b[43m*\u001b[49m\u001b[32;43m25.4\u001b[39;49m,\u001b[32m2\u001b[39m),\u001b[33m\"\u001b[39m\u001b[33mmm\u001b[39m\u001b[33m\"\u001b[39m)\n",
      "\u001b[31mTypeError\u001b[39m: can't multiply sequence by non-int of type 'float'"
     ]
    }
   ],
  
