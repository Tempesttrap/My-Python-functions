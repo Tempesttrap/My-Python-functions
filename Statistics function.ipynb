{
 "cells": [
  {
   "cell_type": "code",
   "execution_count": 1,
   "id": "ea1e9f88-90aa-4e86-8d1e-365e43a41228",
   "metadata": {},
   "outputs": [],
   "source": [
    "import numpy as np"
   ]
  },
  {
   "cell_type": "code",
   "execution_count": 3,
   "id": "a5e7acc5-aaf5-4ab4-b544-f3bdab002678",
   "metadata": {},
   "outputs": [],
   "source": [
    "a_array= np.random.rand(10)"
   ]
  },
  {
   "cell_type": "code",
   "execution_count": 4,
   "id": "6babe354-2357-442c-8016-66fbdd5f67d4",
   "metadata": {},
   "outputs": [],
   "source": [
    "def statistics(a_array):\n",
    "\n",
    "    \"\"\"\n",
    "    Calculates mean, median, or summation from the input array.\n",
    "\n",
    "    Parameters:\n",
    "    a_array: A list or NumPy array of numerical values.\n",
    "\n",
    "    Returns:\n",
    "    float: The calculated statistical value rounded to two decimal places.\n",
    "    \n",
    "    Raises:\n",
    "    ValueError: If an invalid option is chosen.\n",
    "   \n",
    "    \"\"\"\n",
    "    \n",
    "    statistic=input(\"Choose: mean, median, or summation\")\n",
    "    \n",
    "    a=np.mean(a_array)\n",
    "    \n",
    "    b=np.median(a_array)\n",
    "    \n",
    "    c=np.sum(a_array)\n",
    "    \n",
    "    if statistic==\"mean\":\n",
    "        \n",
    "        print(\"The mean is:\",round(a,2))\n",
    "        \n",
    "    elif statistic==\"median\":\n",
    "        \n",
    "        print(\"The median is:\",round(b,2))\n",
    "        \n",
    "    elif statistic==\"summation\":\n",
    "        \n",
    "        print(\"The sum is:\",round(c,2))\n",
    "        \n",
    "    else:\n",
    "        \n",
    "        raise ValueError(\"Not an option, choose: mean, median, or summation!\")\n",
    "        "
   ]
  },
  {
   "cell_type": "code",
   "execution_count": 5,
   "id": "c28c23ec-041a-46dc-9a6e-07bc22e6291a",
   "metadata": {},
   "outputs": [
    {
     "name": "stdin",
     "output_type": "stream",
     "text": [
      "Choose: mean, median, or summation summation\n"
     ]
    },
    {
     "name": "stdout",
     "output_type": "stream",
     "text": [
      "The sum is: 5.87\n"
     ]
    }
   ],
   "source": [
    "statistics(a_array)"
   ]
  },
  {
   "cell_type": "code",
   "execution_count": 6,
   "id": "251e270f-f457-4186-b888-fefb5e6c8abb",
   "metadata": {},
   "outputs": [
    {
     "name": "stdin",
     "output_type": "stream",
     "text": [
      "Choose: mean, median, or summation mean\n"
     ]
    },
    {
     "name": "stdout",
     "output_type": "stream",
     "text": [
      "The mean is: 0.59\n"
     ]
    }
   ],
   "source": [
    "statistics(a_array)"
   ]
  },
  {
   "cell_type": "code",
   "execution_count": 7,
   "id": "02855d7e-dbdc-416c-baa2-b7352a054390",
   "metadata": {},
   "outputs": [
    {
     "name": "stdin",
     "output_type": "stream",
     "text": [
      "Choose: mean, median, or summation median\n"
     ]
    },
    {
     "name": "stdout",
     "output_type": "stream",
     "text": [
      "The median is: 0.57\n"
     ]
    }
   ],
   "source": [
    "statistics(a_array)"
   ]
  }
 ],
 "metadata": {
  "kernelspec": {
   "display_name": "Python 3 (ipykernel)",
   "language": "python",
   "name": "python3"
  },
  "language_info": {
   "codemirror_mode": {
    "name": "ipython",
    "version": 3
   },
   "file_extension": ".py",
   "mimetype": "text/x-python",
   "name": "python",
   "nbconvert_exporter": "python",
   "pygments_lexer": "ipython3",
   "version": "3.9.2"
  }
 },
 "nbformat": 4,
 "nbformat_minor": 5
}
