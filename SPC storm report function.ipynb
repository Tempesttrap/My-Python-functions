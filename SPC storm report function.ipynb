{
 "cells": [
  {
   "cell_type": "code",
   "execution_count": 9,
   "id": "00b5b2dc-8908-4aca-9a70-e249d853a42c",
   "metadata": {},
   "outputs": [],
   "source": [
    "import pandas as pd\n",
    "import requests"
   ]
  },
  {
   "cell_type": "code",
   "execution_count": 20,
   "id": "fc011a45-b78f-47da-abbb-dd549b77b63f",
   "metadata": {},
   "outputs": [],
   "source": [
    "def SPC_data():\n",
    "     \"\"\"\n",
    "    Loads in SPC storm report data (tornado, hail, or wind) for a given date.\n",
    "\n",
    "    Prompts the user to enter a date (in yymmdd format) and report type.\n",
    "    Checks if the corresponding CSV file exists and contains data.\n",
    "    If valid, returns the data as a pandas DataFrame; otherwise, returns None.\n",
    "   \n",
    "    \"\"\"\n",
    "    \n",
    "    date=input(\"Enter date in form yymmdd\")\n",
    "    \n",
    "    wx=input(\"Choose hail, torn, or wind data\")\n",
    "\n",
    "    url=f\"https://www.spc.noaa.gov/climo/reports/{date}_rpts_{wx}.csv\"\n",
    "\n",
    "    try:\n",
    "        resp=requests.get(url)\n",
    "       \n",
    "        if resp.status_code!=200:\n",
    "            \n",
    "            print(\"Data not found for this date or storm report type, try another.\")\n",
    "            \n",
    "            return None\n",
    "    \n",
    "        df=pd.read_csv(url, on_bad_lines='skip') \n",
    "       \n",
    "        if df.empty:\n",
    "           \n",
    "            print(\"Dataset is empty for this date or storm report type,try another.\")\n",
    "            \n",
    "            return None\n",
    "\n",
    "        print(\"Data loaded successfully!\")\n",
    "       \n",
    "        return df\n",
    "\n",
    "    except Exception as e:\n",
    "        print(f\"Error occured {e}.\")\n",
    "        return None\n",
    "        "
   ]
  },
  {
   "cell_type": "code",
   "execution_count": 21,
   "id": "f58f6003-aad5-4d5c-a206-2e8dcd7ed733",
   "metadata": {},
   "outputs": [
    {
     "name": "stdin",
     "output_type": "stream",
     "text": [
      "Enter date in form yymmdd 150216\n",
      "Choose hail, torn, or wind data torn\n"
     ]
    },
    {
     "name": "stdout",
     "output_type": "stream",
     "text": [
      "Dataset is empty for this date or storm report type,try another.\n"
     ]
    }
   ],
   "source": [
    "SPC_data() #check"
   ]
  },
  {
   "cell_type": "code",
   "execution_count": 22,
   "id": "a62e2afd-6fb6-4868-8f21-8b1cbe0f0980",
   "metadata": {},
   "outputs": [
    {
     "name": "stdin",
     "output_type": "stream",
     "text": [
      "Enter date in form yymmdd 951909\n",
      "Choose hail, torn, or wind data wind\n"
     ]
    },
    {
     "name": "stdout",
     "output_type": "stream",
     "text": [
      "Data not found for this date or storm report type, try another.\n"
     ]
    }
   ],
   "source": [
    "SPC_data() #check"
   ]
  },
  {
   "cell_type": "code",
   "execution_count": 23,
   "id": "cf62677d-5eb0-4bcf-b7f9-156a64e5223c",
   "metadata": {},
   "outputs": [
    {
     "name": "stdin",
     "output_type": "stream",
     "text": [
      "Enter date in form yymmdd 090525\n",
      "Choose hail, torn, or wind data wind\n"
     ]
    },
    {
     "name": "stdout",
     "output_type": "stream",
     "text": [
      "Data loaded successfully!\n"
     ]
    },
    {
     "data": {
      "text/html": [
       "<div>\n",
       "<style scoped>\n",
       "    .dataframe tbody tr th:only-of-type {\n",
       "        vertical-align: middle;\n",
       "    }\n",
       "\n",
       "    .dataframe tbody tr th {\n",
       "        vertical-align: top;\n",
       "    }\n",
       "\n",
       "    .dataframe thead th {\n",
       "        text-align: right;\n",
       "    }\n",
       "</style>\n",
       "<table border=\"1\" class=\"dataframe\">\n",
       "  <thead>\n",
       "    <tr style=\"text-align: right;\">\n",
       "      <th></th>\n",
       "      <th>Time</th>\n",
       "      <th>Speed</th>\n",
       "      <th>Location</th>\n",
       "      <th>County</th>\n",
       "      <th>State</th>\n",
       "      <th>Lat</th>\n",
       "      <th>Lon</th>\n",
       "      <th>Comments</th>\n",
       "    </tr>\n",
       "  </thead>\n",
       "  <tbody>\n",
       "    <tr>\n",
       "      <th>0</th>\n",
       "      <td>1658</td>\n",
       "      <td>59</td>\n",
       "      <td>HONDO</td>\n",
       "      <td>MEDINA</td>\n",
       "      <td>TX</td>\n",
       "      <td>29.36</td>\n",
       "      <td>-99.16</td>\n",
       "      <td>HONDO ASOS REPORTED A WIND GUST OF 59 MPH. (EWX)</td>\n",
       "    </tr>\n",
       "    <tr>\n",
       "      <th>1</th>\n",
       "      <td>1937</td>\n",
       "      <td>63</td>\n",
       "      <td>TAMARAC</td>\n",
       "      <td>BROWARD</td>\n",
       "      <td>FL</td>\n",
       "      <td>26.21</td>\n",
       "      <td>-80.27</td>\n",
       "      <td>MEDIA REPORTED WIND GUST NEAR 63 MPH AT CHALLE...</td>\n",
       "    </tr>\n",
       "    <tr>\n",
       "      <th>2</th>\n",
       "      <td>1950</td>\n",
       "      <td>60</td>\n",
       "      <td>1 S MONTPELIER</td>\n",
       "      <td>PRINCE GEORGES</td>\n",
       "      <td>MD</td>\n",
       "      <td>39.05</td>\n",
       "      <td>-76.85</td>\n",
       "      <td>(LWX)</td>\n",
       "    </tr>\n",
       "    <tr>\n",
       "      <th>3</th>\n",
       "      <td>2043</td>\n",
       "      <td>UNK</td>\n",
       "      <td>LA GRANGE</td>\n",
       "      <td>TROUP</td>\n",
       "      <td>GA</td>\n",
       "      <td>33.04</td>\n",
       "      <td>-85.03</td>\n",
       "      <td>SEVERAL TREES AND POWER LINES DOWN AROUND THE ...</td>\n",
       "    </tr>\n",
       "    <tr>\n",
       "      <th>4</th>\n",
       "      <td>2145</td>\n",
       "      <td>UNK</td>\n",
       "      <td>SOUTH BAY</td>\n",
       "      <td>PALM BEACH</td>\n",
       "      <td>FL</td>\n",
       "      <td>26.66</td>\n",
       "      <td>-80.72</td>\n",
       "      <td>WINDS OF AT LEAST 60 MPH AND HAIL OF AT LEAST ...</td>\n",
       "    </tr>\n",
       "    <tr>\n",
       "      <th>5</th>\n",
       "      <td>8</td>\n",
       "      <td>UNK</td>\n",
       "      <td>1 WSW POWELL</td>\n",
       "      <td>KNOX</td>\n",
       "      <td>TN</td>\n",
       "      <td>36.03</td>\n",
       "      <td>-84.04</td>\n",
       "      <td>ONE TREE DOWN ON BRANFORD COURT JUST OFF W. EM...</td>\n",
       "    </tr>\n",
       "    <tr>\n",
       "      <th>6</th>\n",
       "      <td>20</td>\n",
       "      <td>UNK</td>\n",
       "      <td>6 ENE CLINTON</td>\n",
       "      <td>ANDERSON</td>\n",
       "      <td>TN</td>\n",
       "      <td>36.12</td>\n",
       "      <td>-84.03</td>\n",
       "      <td>SEVERAL TREES DOWN ON THE NORRIS FREEWAY. REPO...</td>\n",
       "    </tr>\n",
       "    <tr>\n",
       "      <th>7</th>\n",
       "      <td>44</td>\n",
       "      <td>62</td>\n",
       "      <td>SAFFORD</td>\n",
       "      <td>GRAHAM</td>\n",
       "      <td>AZ</td>\n",
       "      <td>32.83</td>\n",
       "      <td>-109.70</td>\n",
       "      <td>A 54 KNOT/62 MPH WIND GUST WAS RECORDED AT THE...</td>\n",
       "    </tr>\n",
       "    <tr>\n",
       "      <th>8</th>\n",
       "      <td>255</td>\n",
       "      <td>UNK</td>\n",
       "      <td>14 N BARKSDALE</td>\n",
       "      <td>REAL</td>\n",
       "      <td>TX</td>\n",
       "      <td>29.90</td>\n",
       "      <td>-100.01</td>\n",
       "      <td>MULTIPLE TREES BLOWN OVER (EWX)</td>\n",
       "    </tr>\n",
       "    <tr>\n",
       "      <th>9</th>\n",
       "      <td>326</td>\n",
       "      <td>60</td>\n",
       "      <td>6 N REAGAN WELLS</td>\n",
       "      <td>UVALDE</td>\n",
       "      <td>TX</td>\n",
       "      <td>29.64</td>\n",
       "      <td>-99.80</td>\n",
       "      <td>PUBLIC REPORTED WIND GUST OF 60 MPH NORTH OF R...</td>\n",
       "    </tr>\n",
       "    <tr>\n",
       "      <th>10</th>\n",
       "      <td>458</td>\n",
       "      <td>59</td>\n",
       "      <td>HONDO</td>\n",
       "      <td>MEDINA</td>\n",
       "      <td>TX</td>\n",
       "      <td>29.36</td>\n",
       "      <td>-99.16</td>\n",
       "      <td>HONDO ASOS REPORTED A WIND GUST OF 59 MPH. (EWX)</td>\n",
       "    </tr>\n",
       "  </tbody>\n",
       "</table>\n",
       "</div>"
      ],
      "text/plain": [
       "    Time Speed          Location          County State    Lat     Lon  \\\n",
       "0   1658    59             HONDO          MEDINA    TX  29.36  -99.16   \n",
       "1   1937    63           TAMARAC         BROWARD    FL  26.21  -80.27   \n",
       "2   1950    60    1 S MONTPELIER  PRINCE GEORGES    MD  39.05  -76.85   \n",
       "3   2043   UNK         LA GRANGE           TROUP    GA  33.04  -85.03   \n",
       "4   2145   UNK         SOUTH BAY      PALM BEACH    FL  26.66  -80.72   \n",
       "5      8   UNK      1 WSW POWELL            KNOX    TN  36.03  -84.04   \n",
       "6     20   UNK     6 ENE CLINTON        ANDERSON    TN  36.12  -84.03   \n",
       "7     44    62           SAFFORD          GRAHAM    AZ  32.83 -109.70   \n",
       "8    255   UNK    14 N BARKSDALE            REAL    TX  29.90 -100.01   \n",
       "9    326    60  6 N REAGAN WELLS          UVALDE    TX  29.64  -99.80   \n",
       "10   458    59             HONDO          MEDINA    TX  29.36  -99.16   \n",
       "\n",
       "                                             Comments  \n",
       "0    HONDO ASOS REPORTED A WIND GUST OF 59 MPH. (EWX)  \n",
       "1   MEDIA REPORTED WIND GUST NEAR 63 MPH AT CHALLE...  \n",
       "2                                               (LWX)  \n",
       "3   SEVERAL TREES AND POWER LINES DOWN AROUND THE ...  \n",
       "4   WINDS OF AT LEAST 60 MPH AND HAIL OF AT LEAST ...  \n",
       "5   ONE TREE DOWN ON BRANFORD COURT JUST OFF W. EM...  \n",
       "6   SEVERAL TREES DOWN ON THE NORRIS FREEWAY. REPO...  \n",
       "7   A 54 KNOT/62 MPH WIND GUST WAS RECORDED AT THE...  \n",
       "8                     MULTIPLE TREES BLOWN OVER (EWX)  \n",
       "9   PUBLIC REPORTED WIND GUST OF 60 MPH NORTH OF R...  \n",
       "10   HONDO ASOS REPORTED A WIND GUST OF 59 MPH. (EWX)  "
      ]
     },
     "execution_count": 23,
     "metadata": {},
     "output_type": "execute_result"
    }
   ],
   "source": [
    "SPC_data() #check"
   ]
  }
 ],
 "metadata": {
  "kernelspec": {
   "display_name": "Python 3 (ipykernel)",
   "language": "python",
   "name": "python3"
  },
  "language_info": {
   "codemirror_mode": {
    "name": "ipython",
    "version": 3
   },
   "file_extension": ".py",
   "mimetype": "text/x-python",
   "name": "python",
   "nbconvert_exporter": "python",
   "pygments_lexer": "ipython3",
   "version": "3.11.2"
  }
 },
 "nbformat": 4,
 "nbformat_minor": 5
}
