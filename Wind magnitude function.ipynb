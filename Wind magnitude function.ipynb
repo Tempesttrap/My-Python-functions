{
 "cells": [
  {
   "cell_type": "code",
   "execution_count": 2,
   "id": "797ed05a-0fdb-4667-aee0-4458e0ab5c02",
   "metadata": {},
   "outputs": [],
   "source": [
    "import numpy as np"
   ]
  },
  {
   "cell_type": "code",
   "execution_count": 3,
   "id": "1d06720a-ced0-45ee-b445-bc09b8548093",
   "metadata": {},
   "outputs": [],
   "source": [
    "np.random.seed(42) \n",
    "u_wind = np.random.uniform(0, 30, 10).tolist()\n",
    "v_wind = np.random.uniform(0,30,10).tolist()"
   ]
  },
  {
   "cell_type": "code",
   "execution_count": 6,
   "id": "be80e6aa-1b70-40c8-a888-d22a289c64b6",
   "metadata": {},
   "outputs": [],
   "source": [
    "def wind_magnitude(u,v):\n",
    "    \"\"\"\n",
    "    Calculate and print the magnitude of wind vectors from u and v components.\n",
    "\n",
    "    Parameters:\n",
    "        u (list or array): U-component(s) of wind.\n",
    "        v (list or array): V-component(s) of wind.\n",
    "\n",
    "    Returns:\n",
    "        None. Prints the wind magnitude(s) rounded to 2 decimal places.\n",
    "    \n",
    "    \"\"\"\n",
    "    u=np.array(u)\n",
    "   \n",
    "    v=np.array(v)\n",
    "    \n",
    "    mag=np.round(np.sqrt(u**2 + v**2),2)\n",
    " \n",
    "    if len(v) > 1:\n",
    "        print(\"The wind magnitudes are:\", ', '.join(str(m) for m in mag))\n",
    "    else:\n",
    "        print(\"The wind magnitude is:\", round(mag.item(), 2))"
   ]
  },
  {
   "cell_type": "code",
   "execution_count": 7,
   "id": "d8e98fa3-9db2-45cb-8479-9971a9f0dcd8",
   "metadata": {},
   "outputs": [
    {
     "name": "stdout",
     "output_type": "stream",
     "text": [
      "The wind magnitudes are: 11.25, 40.74, 33.26, 19.06, 7.19, 7.22, 9.29, 30.38, 22.21, 22.97\n"
     ]
    }
   ],
   "source": [
    "wind_magnitude(u_wind,v_wind)"
   ]
  },
  {
   "cell_type": "code",
   "execution_count": null,
   "id": "02ea2112-605d-46f6-aba0-46d23cdbb4dd",
   "metadata": {},
   "outputs": [],
   "source": []
  }
 ],
 "metadata": {
  "kernelspec": {
   "display_name": "Python 3 (ipykernel)",
   "language": "python",
   "name": "python3"
  },
  "language_info": {
   "codemirror_mode": {
    "name": "ipython",
    "version": 3
   },
   "file_extension": ".py",
   "mimetype": "text/x-python",
   "name": "python",
   "nbconvert_exporter": "python",
   "pygments_lexer": "ipython3",
   "version": "3.9.2"
  }
 },
 "nbformat": 4,
 "nbformat_minor": 5
}
