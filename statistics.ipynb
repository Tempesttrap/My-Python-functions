{
 "cells": [
  {
   "cell_type": "code",
   "execution_count": 6,
   "id": "ea1e9f88-90aa-4e86-8d1e-365e43a41228",
   "metadata": {},
   "outputs": [],
   "source": [
    "import numpy as np"
   ]
  },
  {
   "cell_type": "code",
   "execution_count": 11,
   "id": "6babe354-2357-442c-8016-66fbdd5f67d4",
   "metadata": {},
   "outputs": [],
   "source": [
    "def statistics(a_array):\n",
    "    statistic=input(\"Choose: mean, median, or summation\")\n",
    "    a=np.mean(a_array)\n",
    "    b=np.median(a_array)\n",
    "    c=np.sum(a_array)\n",
    "    if statistic==\"mean\":\n",
    "        print(\"The mean is:\",round(a,2))\n",
    "        \n",
    "    elif statistic==\"median\":\n",
    "        print(\"The median is:\",round(b,2))\n",
    "        \n",
    "    elif statistic==\"summation\":\n",
    "        print(\"The sum is:\",round(c,2))\n",
    "        \n",
    "    else:\n",
    "        raise ValueError(\"Not an option, choose: mean, median, or summation!\")\n",
    "        "
   ]
  }
 ],
 "metadata": {
  "kernelspec": {
   "display_name": "Python 3 (ipykernel)",
   "language": "python",
   "name": "python3"
  },
  "language_info": {
   "codemirror_mode": {
    "name": "ipython",
    "version": 3
   },
   "file_extension": ".py",
   "mimetype": "text/x-python",
   "name": "python",
   "nbconvert_exporter": "python",
   "pygments_lexer": "ipython3",
   "version": "3.11.2"
  }
 },
 "nbformat": 4,
 "nbformat_minor": 5
}
